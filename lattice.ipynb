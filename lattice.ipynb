{
 "cells": [
  {
   "cell_type": "code",
   "execution_count": 1,
   "id": "51f85ca9",
   "metadata": {},
   "outputs": [],
   "source": [
    "from pymatgen.ext.matproj import MPRester\n",
    "from pymatgen.symmetry.analyzer import SpacegroupAnalyzer\n",
    "from pprint import pprint\n",
    "with MPRester('dSIkoJuHEqTpcGXu8') as m: \n",
    "    structure = m.get_structure_by_material_id('mp-961660')"
   ]
  },
  {
   "cell_type": "code",
   "execution_count": 2,
   "id": "dbb59d3c",
   "metadata": {},
   "outputs": [
    {
     "name": "stdout",
     "output_type": "stream",
     "text": [
      "'les vecteurs de bases des réseaux direct'\n"
     ]
    },
    {
     "data": {
      "text/plain": [
       "Lattice\n",
       "    abc : 3.97345927765719 3.97345927765719 3.97345927765719\n",
       " angles : 60.00000000000001 60.00000000000001 60.00000000000001\n",
       " volume : 44.35997590493739\n",
       "      A : 0.0 2.80966 2.80966\n",
       "      B : 2.80966 0.0 2.80966\n",
       "      C : 2.80966 2.80966 0.0"
      ]
     },
     "execution_count": 2,
     "metadata": {},
     "output_type": "execute_result"
    }
   ],
   "source": [
    "sga = SpacegroupAnalyzer(structure)\n",
    "pprint(\"les vecteurs de bases des réseaux direct\")\n",
    "structure.lattice"
   ]
  },
  {
   "cell_type": "code",
   "execution_count": 3,
   "id": "1a3797a5",
   "metadata": {},
   "outputs": [
    {
     "name": "stdout",
     "output_type": "stream",
     "text": [
      "'les vecteurs de bases des réseaux réciproques'\n"
     ]
    },
    {
     "data": {
      "text/plain": [
       "Lattice\n",
       "    abc : 1.936674933160117 1.936674933160117 1.936674933160117\n",
       " angles : 109.47122063449069 109.47122063449069 109.47122063449069\n",
       " volume : 5.591757172591023\n",
       "      A : -1.118139793992794 1.118139793992794 1.118139793992794\n",
       "      B : 1.118139793992794 -1.118139793992794 1.118139793992794\n",
       "      C : 1.118139793992794 1.118139793992794 -1.118139793992794"
      ]
     },
     "execution_count": 3,
     "metadata": {},
     "output_type": "execute_result"
    }
   ],
   "source": [
    "pprint('les vecteurs de bases des réseaux réciproques')\n",
    "structure.lattice.reciprocal_lattice"
   ]
  },
  {
   "cell_type": "code",
   "execution_count": 4,
   "id": "e4bfcd52",
   "metadata": {},
   "outputs": [
    {
     "name": "stdout",
     "output_type": "stream",
     "text": [
      "'Type de maille'\n"
     ]
    },
    {
     "data": {
      "text/plain": [
       "'cubic'"
      ]
     },
     "execution_count": 4,
     "metadata": {},
     "output_type": "execute_result"
    }
   ],
   "source": [
    "pprint('Type de maille')\n",
    "sga.get_lattice_type()"
   ]
  },
  {
   "cell_type": "code",
   "execution_count": 5,
   "id": "5bd6fbf5",
   "metadata": {},
   "outputs": [
    {
     "name": "stdout",
     "output_type": "stream",
     "text": [
      "'Système cristallin'\n"
     ]
    },
    {
     "data": {
      "text/plain": [
       "'cubic'"
      ]
     },
     "execution_count": 5,
     "metadata": {},
     "output_type": "execute_result"
    }
   ],
   "source": [
    "pprint(\"Système cristallin\")\n",
    "sga.get_crystal_system()"
   ]
  },
  {
   "cell_type": "code",
   "execution_count": 6,
   "id": "217bbdfc",
   "metadata": {},
   "outputs": [
    {
     "name": "stdout",
     "output_type": "stream",
     "text": [
      "'Groupe ponctuel'\n"
     ]
    },
    {
     "data": {
      "text/plain": [
       "'-43m'"
      ]
     },
     "execution_count": 6,
     "metadata": {},
     "output_type": "execute_result"
    }
   ],
   "source": [
    "pprint(\"Groupe ponctuel\")\n",
    "sga.get_point_group_symbol()"
   ]
  },
  {
   "cell_type": "code",
   "execution_count": null,
   "id": "2080af71",
   "metadata": {},
   "outputs": [],
   "source": []
  }
 ],
 "metadata": {
  "kernelspec": {
   "display_name": "Python 3",
   "language": "python",
   "name": "python3"
  },
  "language_info": {
   "codemirror_mode": {
    "name": "ipython",
    "version": 3
   },
   "file_extension": ".py",
   "mimetype": "text/x-python",
   "name": "python",
   "nbconvert_exporter": "python",
   "pygments_lexer": "ipython3",
   "version": "3.6.8"
  }
 },
 "nbformat": 4,
 "nbformat_minor": 5
}
